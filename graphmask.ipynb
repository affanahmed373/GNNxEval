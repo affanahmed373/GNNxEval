{
 "cells": [
  {
   "cell_type": "code",
   "execution_count": 11,
   "metadata": {},
   "outputs": [],
   "source": [
    "import os.path as osp\n",
    "\n",
    "import torch\n",
    "import torch.nn.functional as F\n",
    "\n",
    "from torch_geometric.contrib.explain import GraphMaskExplainer\n",
    "from torch_geometric.datasets import Planetoid\n",
    "from torch_geometric.explain import Explainer\n",
    "from torch_geometric.nn import GATConv, GCNConv\n",
    "from torch_geometric.explain.metric import fidelity,characterization_score,unfaithfulness\n",
    "device = torch.device('cuda' if torch.cuda.is_available() else 'cpu')\n",
    "\n",
    "path = 'data\\Planetoid'\n",
    "dataset = Planetoid(path, name='Cora')\n",
    "data = dataset[0].to(device)"
   ]
  },
  {
   "cell_type": "code",
   "execution_count": 12,
   "metadata": {},
   "outputs": [],
   "source": [
    "class GCN(torch.nn.Module):\n",
    "    def __init__(self):\n",
    "        super().__init__()\n",
    "        self.conv1 = GCNConv(dataset.num_features, 16)\n",
    "        self.conv2 = GCNConv(16, dataset.num_classes)\n",
    "\n",
    "    def forward(self, x, edge_index):\n",
    "        x = self.conv1(x, edge_index).relu()\n",
    "        x = F.dropout(x, training=self.training)\n",
    "        x = self.conv2(x, edge_index)\n",
    "        return F.log_softmax(x, dim=1)\n",
    "\n",
    "\n",
    "model = GCN().to(device)\n",
    "optimizer = torch.optim.Adam(model.parameters(), lr=0.01, weight_decay=5e-4)\n",
    "\n",
    "for epoch in range(1, 201):\n",
    "    model.train()\n",
    "    optimizer.zero_grad()\n",
    "    out = model(data.x, data.edge_index)\n",
    "    loss = F.nll_loss(out[data.train_mask], data.y[data.train_mask])\n",
    "    loss.backward()\n",
    "    optimizer.step()\n"
   ]
  },
  {
   "cell_type": "code",
   "execution_count": 13,
   "metadata": {},
   "outputs": [],
   "source": [
    "topk = 40\n",
    "node_index=10\n",
    "\n",
    "explainer = Explainer(\n",
    "    model=model,\n",
    "    algorithm=GraphMaskExplainer(2, epochs=5),\n",
    "    explanation_type='model',\n",
    "    node_mask_type='attributes',\n",
    "    edge_mask_type='object',\n",
    "    model_config=dict(\n",
    "        mode='multiclass_classification',\n",
    "        task_level='node',\n",
    "        return_type='log_probs',\n",
    "    ),\n",
    "threshold_config=dict(threshold_type  = 'topk', value=topk)\n",
    ")"
   ]
  },
  {
   "cell_type": "code",
   "execution_count": 14,
   "metadata": {},
   "outputs": [
    {
     "name": "stderr",
     "output_type": "stream",
     "text": [
      "Train explainer for node(s) 10 with layer 1:   0%|          | 0/5 [00:00<?, ?it/s]"
     ]
    },
    {
     "name": "stderr",
     "output_type": "stream",
     "text": [
      "Train explainer for node(s) 10 with layer 1: 100%|██████████| 5/5 [00:01<00:00,  4.95it/s]\n",
      "Train explainer for node(s) 10 with layer 0: 100%|██████████| 5/5 [00:01<00:00,  3.97it/s]\n",
      "Explain: 100%|██████████| 2/2 [00:00<00:00, 95.28it/s] "
     ]
    },
    {
     "name": "stdout",
     "output_type": "stream",
     "text": [
      "Generated explanations in ['edge_mask', 'node_mask']\n"
     ]
    },
    {
     "name": "stderr",
     "output_type": "stream",
     "text": [
      "\n"
     ]
    }
   ],
   "source": [
    "node_index = 10\n",
    "explanation = explainer(data.x, data.edge_index, index=node_index)\n",
    "print(f'Generated explanations in {explanation.available_explanations}')"
   ]
  },
  {
   "cell_type": "code",
   "execution_count": 15,
   "metadata": {},
   "outputs": [
    {
     "name": "stdout",
     "output_type": "stream",
     "text": [
      "0.6571427285671234\n"
     ]
    }
   ],
   "source": [
    "unfaithfulness1=unfaithfulness(explainer,explanation,top_k=10)\n",
    "print(unfaithfulness1)"
   ]
  },
  {
   "cell_type": "code",
   "execution_count": 18,
   "metadata": {},
   "outputs": [
    {
     "name": "stdout",
     "output_type": "stream",
     "text": [
      "0.6571427285671234\n"
     ]
    }
   ],
   "source": [
    "unfaithfulness1=unfaithfulness(explainer,explanation,top_k=10)\n",
    "print(unfaithfulness1)"
   ]
  },
  {
   "cell_type": "code",
   "execution_count": 19,
   "metadata": {},
   "outputs": [
    {
     "name": "stderr",
     "output_type": "stream",
     "text": [
      "Train explainer for node(s) None with layer 1: 100%|██████████| 5/5 [00:00<00:00,  6.23it/s]\n",
      "Train explainer for node(s) None with layer 0: 100%|██████████| 5/5 [00:00<00:00,  5.05it/s]\n",
      "Explain: 100%|██████████| 2/2 [00:00<00:00, 111.09it/s]"
     ]
    },
    {
     "name": "stdout",
     "output_type": "stream",
     "text": [
      "Generated explanations in ['edge_mask', 'node_mask']\n",
      "Fidelity: (0.0697932243347168, 0.07348597049713135)\n",
      "Characterization score: 0.12980815157428835\n"
     ]
    },
    {
     "name": "stderr",
     "output_type": "stream",
     "text": [
      "\n"
     ]
    }
   ],
   "source": [
    "explanation_metrics = explainer(data.x, data.edge_index)\n",
    "\n",
    "fid_pm = fidelity(explainer, explanation_metrics)\n",
    "print(\"Fidelity:\", fid_pm)\n",
    "\n",
    "char_score = characterization_score(fid_pm[0], fid_pm[1])\n",
    "print(\"Characterization score:\", char_score)"
   ]
  }
 ],
 "metadata": {
  "kernelspec": {
   "display_name": ".venv",
   "language": "python",
   "name": "python3"
  },
  "language_info": {
   "codemirror_mode": {
    "name": "ipython",
    "version": 3
   },
   "file_extension": ".py",
   "mimetype": "text/x-python",
   "name": "python",
   "nbconvert_exporter": "python",
   "pygments_lexer": "ipython3",
   "version": "3.10.0"
  },
  "orig_nbformat": 4
 },
 "nbformat": 4,
 "nbformat_minor": 2
}
